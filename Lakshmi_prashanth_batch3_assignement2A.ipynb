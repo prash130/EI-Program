{
 "cells": [
  {
   "cell_type": "markdown",
   "metadata": {
    "deletable": true,
    "editable": true
   },
   "source": [
    "<!--\n",
    "Python:\n",
    "  Simple data types\n",
    "    integer, float, string\n",
    "  Compound data types\n",
    "    tuple, list, dictionary, set\n",
    "  Flow control\n",
    "    if, while, for, try, with\n",
    "  Comprehensions, generators\n",
    "  Functions\n",
    "  Classes\n",
    "  Standard library\n",
    "    json, collections, itertools\n",
    "\n",
    "Numpy\n",
    "-->\n",
    "\n",
    "This tutorial was contributed by [Justin Johnson](http://cs.stanford.edu/people/jcjohns/).\n",
    "\n",
    "We will use the Python programming language for all assignments in this course.\n",
    "Python is a great general-purpose programming language on its own, but with the\n",
    "help of a few popular libraries (numpy, scipy, matplotlib) it becomes a powerful\n",
    "environment for scientific computing.\n",
    "\n",
    "We expect that many of you will have some experience with Python and numpy;\n",
    "for the rest of you, this section will serve as a quick crash course both on\n",
    "the Python programming language and on the use of Python for scientific\n",
    "computing.\n",
    "\n",
    "Some of you may have previous knowledge in Matlab, in which case we also recommend the [numpy for Matlab users](http://wiki.scipy.org/NumPy_for_Matlab_Users) page.\n",
    "\n",
    "You can also find an [IPython notebook version of this tutorial here](https://github.com/kuleshov/cs228-material/blob/master/tutorials/python/cs228-python-tutorial.ipynb) created by [Volodymyr Kuleshov](http://web.stanford.edu/~kuleshov/) and [Isaac Caswell](https://symsys.stanford.edu/viewing/symsysaffiliate/21335) for [CS 228](http://cs.stanford.edu/~ermon/cs228/index.html).\n",
    "\n",
    "Table of contents:\n",
    "\n",
    "- [Python](#python)\n",
    "  - [Basic data types](#python-basic)\n",
    "  - [Containers](#python-containers)\n",
    "      - [Lists](#python-lists)\n",
    "      - [Dictionaries](#python-dicts)\n",
    "      - [Sets](#python-sets)\n",
    "      - [Tuples](#python-tuples)\n",
    "  - [Functions](#python-functions)\n",
    "  - [Classes](#python-classes)\n",
    "- [Numpy](#numpy)\n",
    "  - [Arrays](#numpy-arrays)\n",
    "  - [Array indexing](#numpy-array-indexing)\n",
    "  - [Datatypes](#numpy-datatypes)\n",
    "  - [Array math](#numpy-math)\n",
    "  - [Broadcasting](#numpy-broadcasting)\n",
    "- [SciPy](#scipy)\n",
    "  - [Image operations](#scipy-image)\n",
    "  - [MATLAB files](#scipy-matlab)\n",
    "  - [Distance between points](#scipy-dist)\n",
    "- [Matplotlib](#matplotlib)\n",
    "  - [Plotting](#matplotlib-plotting)\n",
    "  - [Subplots](#matplotlib-subplots)\n",
    "  - [Images](#matplotlib-images)\n",
    "\n",
    "<a name='python'></a>\n",
    "\n",
    "## Python\n",
    "\n",
    "Python is a high-level, dynamically typed multiparadigm programming language.\n",
    "Python code is often said to be almost like pseudocode, since it allows you\n",
    "to express very powerful ideas in very few lines of code while being very\n",
    "readable. As an example, here is an implementation of the classic quicksort\n",
    "algorithm in Python:"
   ]
  },
  {
   "cell_type": "code",
   "execution_count": 1,
   "metadata": {
    "collapsed": false,
    "deletable": true,
    "editable": true
   },
   "outputs": [
    {
     "name": "stdout",
     "output_type": "stream",
     "text": [
      "[1, 1, 2, 3, 6, 8, 10]\n"
     ]
    }
   ],
   "source": [
    "def quicksort(eip_list):\n",
    "    if len(eip_list) <= 1:\n",
    "        return eip_list\n",
    "    eip = eip_list[len(eip_list) // 2]\n",
    "    mlblr_in = [x for x in eip_list if x < eip]\n",
    "    mlblr = [x for x in eip_list if x == eip]\n",
    "    mlblr_out = [x for x in eip_list if x > eip]\n",
    "    return quicksort(mlblr_in) + mlblr + quicksort(mlblr_out)\n",
    "\n",
    "print(quicksort([3,6,8,10,1,2,1]))\n",
    "# Prints \"[1, 1, 2, 3, 6, 8, 10]\""
   ]
  },
  {
   "cell_type": "markdown",
   "metadata": {
    "deletable": true,
    "editable": true
   },
   "source": [
    "### Python versions\n",
    "There are currently two different supported versions of Python, 2.7 and 3.5.\n",
    "Somewhat confusingly, Python 3.0 introduced many backwards-incompatible changes\n",
    "to the language, so code written for 2.7 may not work under 3.5 and vice versa.\n",
    "For this class all code will use Python 3.5.\n",
    "\n",
    "You can check your Python version at the command line by running\n",
    "`python --version`.\n",
    "\n",
    "<a name='python-basic'></a>\n",
    "\n",
    "### Basic data types\n",
    "\n",
    "Like most languages, Python has a number of basic types including integers,\n",
    "floats, booleans, and strings. These data types behave in ways that are\n",
    "familiar from other programming languages.\n",
    "\n",
    "**Numbers:** Integers and floats work as you would expect from other languages:"
   ]
  },
  {
   "cell_type": "code",
   "execution_count": 2,
   "metadata": {
    "collapsed": false,
    "deletable": true,
    "editable": true
   },
   "outputs": [
    {
     "name": "stdout",
     "output_type": "stream",
     "text": [
      "<type 'int'>\n",
      "3\n",
      "4\n",
      "2\n",
      "6\n",
      "9\n",
      "4\n",
      "8\n",
      "<type 'float'>\n",
      "(2.5, 3.5, 5.0, 6.25)\n"
     ]
    }
   ],
   "source": [
    "mlblr = 3\n",
    "print(type(mlblr)) # Prints \"<class 'int'>\"\n",
    "print(mlblr)       # Prints \"3\"\n",
    "print(mlblr + 1)   # Addition; prints \"4\"\n",
    "print(mlblr - 1)   # Subtraction; prints \"2\"\n",
    "print(mlblr * 2)   # Multiplication; prints \"6\"\n",
    "print(mlblr ** 2)  # Exponentiation; prints \"9\"\n",
    "mlblr += 1\n",
    "print(mlblr)  # Prints \"4\"\n",
    "mlblr *= 2\n",
    "print(mlblr)  # Prints \"8\"\n",
    "mlblr = 2.5\n",
    "print(type(mlblr)) # Prints \"<class 'float'>\"\n",
    "print(mlblr, mlblr + 1, mlblr * 2, mlblr ** 2) # Prints \"2.5 3.5 5.0 6.25\""
   ]
  },
  {
   "cell_type": "markdown",
   "metadata": {
    "deletable": true,
    "editable": true
   },
   "source": [
    "Note that unlike many languages, Python does not have unary increment (`eip++`)\n",
    "or decrement (`eip--`) operators.\n",
    "\n",
    "Python also has built-in types for complex numbers;\n",
    "you can find all of the details\n",
    "[in the documentation](https://docs.python.org/3.5/library/stdtypes.html#numeric-types-int-float-complex).\n",
    "\n",
    "**Booleans:** Python implements all of the usual operators for Boolean logic,\n",
    "but uses English words rather than symbols (`&&`, `||`, etc.):"
   ]
  },
  {
   "cell_type": "code",
   "execution_count": 3,
   "metadata": {
    "collapsed": false,
    "deletable": true,
    "editable": true
   },
   "outputs": [
    {
     "name": "stdout",
     "output_type": "stream",
     "text": [
      "<type 'bool'>\n",
      "False\n",
      "True\n",
      "False\n",
      "True\n"
     ]
    }
   ],
   "source": [
    "mlblr = True\n",
    "eip =  False\n",
    "print(type(eip)) # Prints \"<class 'bool'>\"\n",
    "print(eip and mlblr) # Logical AND; prints \"False\"\n",
    "print(eip or mlblr)  # Logical OR; prints \"True\"\n",
    "print(not mlblr)   # Logical NOT; prints \"False\"\n",
    "print(eip != mlblr)  # Logical XOR; prints \"True\""
   ]
  },
  {
   "cell_type": "markdown",
   "metadata": {
    "deletable": true,
    "editable": true
   },
   "source": [
    "**Strings:** Python has great support for strings:"
   ]
  },
  {
   "cell_type": "code",
   "execution_count": 4,
   "metadata": {
    "collapsed": false,
    "deletable": true,
    "editable": true
   },
   "outputs": [
    {
     "name": "stdout",
     "output_type": "stream",
     "text": [
      "hello\n",
      "5\n",
      "hello world\n",
      "hello world 12\n"
     ]
    }
   ],
   "source": [
    "mlblr = 'hello'    # String literals can use single quotes\n",
    "eip = \"world\"    # or double quotes; it does not matter.\n",
    "print(mlblr)       # Prints \"hello\"\n",
    "print(len(mlblr))  # String length; prints \"5\"\n",
    "eip_out = mlblr + ' ' + eip  # String concatenation\n",
    "print(eip_out)  # prints \"hello world\"\n",
    "mlblr_out = '%s %s %d' % (mlblr, eip, 12)  # sprintf style string formatting\n",
    "print(mlblr_out)  # prints \"hello world 12\""
   ]
  },
  {
   "cell_type": "markdown",
   "metadata": {
    "deletable": true,
    "editable": true
   },
   "source": [
    "String objects have a bunch of useful methods; for example:"
   ]
  },
  {
   "cell_type": "code",
   "execution_count": 5,
   "metadata": {
    "collapsed": false,
    "deletable": true,
    "editable": true
   },
   "outputs": [
    {
     "name": "stdout",
     "output_type": "stream",
     "text": [
      "Hello\n",
      "HELLO\n",
      "  hello\n",
      " hello \n",
      "he(ell)(ell)o\n",
      "world\n"
     ]
    }
   ],
   "source": [
    "mlblr = \"hello\"\n",
    "print(mlblr.capitalize())  # Capitalize a string; prints \"Hello\"\n",
    "print(mlblr.upper())       # Convert a string to uppercase; prints \"HELLO\"\n",
    "print(mlblr.rjust(7))      # Right-justify a string, padding with spaces; prints \"  hello\"\n",
    "print(mlblr.center(7))     # Center a string, padding with spaces; prints \" hello \"\n",
    "print(mlblr.replace('l', '(ell)'))  # Replace all instances of one substring with another;\n",
    "                                # prints \"he(ell)(ell)o\"\n",
    "print('  world '.strip())  # Strip leading and trailing whitespace; prints \"world\""
   ]
  },
  {
   "cell_type": "markdown",
   "metadata": {
    "deletable": true,
    "editable": true
   },
   "source": [
    "You can find a list of all string methods [in the documentation](https://docs.python.org/3.5/library/stdtypes.html#string-methods).\n",
    "\n",
    "<a name='python-containers'></a>\n",
    "\n",
    "### Containers\n",
    "Python includes several built-in container types: lists, dictionaries, sets, and tuples.\n",
    "\n",
    "<a name='python-lists'></a>\n",
    "\n",
    "#### Lists\n",
    "A list is the Python equivalent of an array, but is resizeable\n",
    "and can contain elements of different types:"
   ]
  },
  {
   "cell_type": "code",
   "execution_count": 6,
   "metadata": {
    "collapsed": false,
    "deletable": true,
    "editable": true
   },
   "outputs": [
    {
     "name": "stdout",
     "output_type": "stream",
     "text": [
      "([3, 1, 2], 2)\n",
      "2\n",
      "[3, 1, 'foo']\n",
      "[3, 1, 'foo', 'bar']\n",
      "('bar', [3, 1, 'foo'])\n"
     ]
    }
   ],
   "source": [
    "eip_list = [3, 1, 2]    # Create a list\n",
    "print(eip_list, eip_list[2])  # Prints \"[3, 1, 2] 2\"\n",
    "print(eip_list[-1])     # Negative indices count from the end of the list; prints \"2\"\n",
    "eip_list[2] = 'foo'     # Lists can contain elements of different types\n",
    "print(eip_list)         # Prints \"[3, 1, 'foo']\"\n",
    "eip_list.append('bar')  # Add a new element to the end of the list\n",
    "print(eip_list)         # Prints \"[3, 1, 'foo', 'bar']\"\n",
    "eip = eip_list.pop()      # Remove and return the last element of the list\n",
    "print(eip, eip_list)      # Prints \"bar [3, 1, 'foo']\""
   ]
  },
  {
   "cell_type": "markdown",
   "metadata": {
    "deletable": true,
    "editable": true
   },
   "source": [
    "As usual, you can find all the gory details about lists\n",
    "[in the documentation](https://docs.python.org/3.5/tutorial/datastructures.html#more-on-lists).\n",
    "\n",
    "**Slicing:**\n",
    "In addition to accessing list elements one at a time, Python provides\n",
    "concise syntax to access sublists; this is known as *slicing*:"
   ]
  },
  {
   "cell_type": "code",
   "execution_count": 7,
   "metadata": {
    "collapsed": false,
    "deletable": true,
    "editable": true
   },
   "outputs": [
    {
     "name": "stdout",
     "output_type": "stream",
     "text": [
      "[0, 1, 2, 3, 4]\n",
      "[2, 3]\n",
      "[2, 3, 4]\n",
      "[0, 1]\n",
      "[0, 1, 2, 3, 4]\n",
      "[0, 1, 2, 3]\n",
      "[0, 1, 8, 9, 4]\n"
     ]
    }
   ],
   "source": [
    "eip_list = list(range(5))     # range is a built-in function that creates a list of integers\n",
    "print(eip_list)               # Prints \"[0, 1, 2, 3, 4]\"\n",
    "print(eip_list[2:4])          # Get a slice from index 2 to 4 (exclusive); prints \"[2, 3]\"\n",
    "print(eip_list[2:])           # Get a slice from index 2 to the end; prints \"[2, 3, 4]\"\n",
    "print(eip_list[:2])           # Get a slice from the start to index 2 (exclusive); prints \"[0, 1]\"\n",
    "print(eip_list[:])            # Get a slice of the whole list; prints \"[0, 1, 2, 3, 4]\"\n",
    "print(eip_list[:-1])          # Slice indices can be negative; prints \"[0, 1, 2, 3]\"\n",
    "eip_list[2:4] = [8, 9]        # Assign a new sublist to a slice\n",
    "print(eip_list)               # Prints \"[0, 1, 8, 9, 4]\""
   ]
  },
  {
   "cell_type": "markdown",
   "metadata": {
    "deletable": true,
    "editable": true
   },
   "source": [
    "We will see slicing again in the context of numpy arrays.\n",
    "\n",
    "**Loops:** You can loop over the elements of a list like this:"
   ]
  },
  {
   "cell_type": "code",
   "execution_count": 8,
   "metadata": {
    "collapsed": false,
    "deletable": true,
    "editable": true
   },
   "outputs": [
    {
     "name": "stdout",
     "output_type": "stream",
     "text": [
      "cat\n",
      "dog\n",
      "monkey\n"
     ]
    }
   ],
   "source": [
    "eip_list = ['cat', 'dog', 'monkey']\n",
    "for eip in eip_list:\n",
    "    print(eip)\n",
    "# Prints \"cat\", \"dog\", \"monkey\", each on its own line."
   ]
  },
  {
   "cell_type": "markdown",
   "metadata": {
    "deletable": true,
    "editable": true
   },
   "source": [
    "If you want access to the index of each element within the body of a loop,\n",
    "use the built-in `enumerate` function:"
   ]
  },
  {
   "cell_type": "code",
   "execution_count": 9,
   "metadata": {
    "collapsed": false,
    "deletable": true,
    "editable": true
   },
   "outputs": [
    {
     "name": "stdout",
     "output_type": "stream",
     "text": [
      "#1: cat\n",
      "#2: dog\n",
      "#3: monkey\n"
     ]
    }
   ],
   "source": [
    "eip_list = ['cat', 'dog', 'monkey']\n",
    "for eip_in, eip in enumerate(eip_list):\n",
    "    print('#%d: %s' % (eip_in + 1, eip))\n",
    "# Prints \"#1: cat\", \"#2: dog\", \"#3: monkey\", each on its own line"
   ]
  },
  {
   "cell_type": "markdown",
   "metadata": {
    "deletable": true,
    "editable": true
   },
   "source": [
    "**List comprehensions:**\n",
    "When programming, frequently we want to transform one type of data into another.\n",
    "As a simple example, consider the following code that computes square numbers:"
   ]
  },
  {
   "cell_type": "code",
   "execution_count": 10,
   "metadata": {
    "collapsed": false,
    "deletable": true,
    "editable": true
   },
   "outputs": [
    {
     "name": "stdout",
     "output_type": "stream",
     "text": [
      "[0, 1, 4, 9, 16]\n"
     ]
    }
   ],
   "source": [
    "eip_list = [0, 1, 2, 3, 4]\n",
    "mlblr = []\n",
    "for eip in eip_list:\n",
    "    mlblr.append(eip ** 2)\n",
    "print(mlblr)   # Prints [0, 1, 4, 9, 16]"
   ]
  },
  {
   "cell_type": "markdown",
   "metadata": {
    "deletable": true,
    "editable": true
   },
   "source": [
    "You can make this code simpler using a **list comprehension**:"
   ]
  },
  {
   "cell_type": "code",
   "execution_count": 11,
   "metadata": {
    "collapsed": false,
    "deletable": true,
    "editable": true
   },
   "outputs": [
    {
     "name": "stdout",
     "output_type": "stream",
     "text": [
      "[0, 1, 4, 9, 16]\n"
     ]
    }
   ],
   "source": [
    "eip_list = [0, 1, 2, 3, 4]\n",
    "mlblr = [eip ** 2 for eip in eip_list]\n",
    "print(mlblr)   # Prints [0, 1, 4, 9, 16]"
   ]
  },
  {
   "cell_type": "markdown",
   "metadata": {
    "deletable": true,
    "editable": true
   },
   "source": [
    "List comprehensions can also contain conditions:"
   ]
  },
  {
   "cell_type": "code",
   "execution_count": 12,
   "metadata": {
    "collapsed": false,
    "deletable": true,
    "editable": true
   },
   "outputs": [
    {
     "name": "stdout",
     "output_type": "stream",
     "text": [
      "[0, 4, 16]\n"
     ]
    }
   ],
   "source": [
    "eip_list = [0, 1, 2, 3, 4]\n",
    "mlblr = [eip ** 2 for eip in eip_list if eip % 2 == 0]\n",
    "print(mlblr)  # Prints \"[0, 4, 16]\""
   ]
  },
  {
   "cell_type": "markdown",
   "metadata": {
    "deletable": true,
    "editable": true
   },
   "source": [
    "<a name='python-dicts'></a>\n",
    "\n",
    "#### Dictionaries\n",
    "A dictionary stores (key, value) pairs, similar to a `Map` in Java or\n",
    "an object in Javascript. You can use it like this:"
   ]
  },
  {
   "cell_type": "code",
   "execution_count": 13,
   "metadata": {
    "collapsed": false,
    "deletable": true,
    "editable": true
   },
   "outputs": [
    {
     "name": "stdout",
     "output_type": "stream",
     "text": [
      "cute\n",
      "True\n",
      "wet\n",
      "N/A\n",
      "wet\n",
      "N/A\n"
     ]
    }
   ],
   "source": [
    "eip_dict = {'cat': 'cute', 'dog': 'furry'}  # Create a new dictionary with some data\n",
    "print(eip_dict['cat'])       # Get an entry from a dictionary; prints \"cute\"\n",
    "print('cat' in eip_dict)     # Check if a dictionary has a given key; prints \"True\"\n",
    "eip_dict['fish'] = 'wet'     # Set an entry in a dictionary\n",
    "print(eip_dict['fish'])      # Prints \"wet\"\n",
    "# print(d['monkey'])  # KeyError: 'monkey' not a key of d\n",
    "print(eip_dict.get('monkey', 'N/A'))  # Get an element with a default; prints \"N/A\"\n",
    "print(eip_dict.get('fish', 'N/A'))    # Get an element with a default; prints \"wet\"\n",
    "del eip_dict['fish']         # Remove an element from a dictionary\n",
    "print(eip_dict.get('fish', 'N/A')) # \"fish\" is no longer a key; prints \"N/A\""
   ]
  },
  {
   "cell_type": "markdown",
   "metadata": {
    "deletable": true,
    "editable": true
   },
   "source": [
    "You can find all you need to know about dictionaries\n",
    "[in the documentation](https://docs.python.org/3.5/library/stdtypes.html#dict).\n",
    "\n",
    "**Loops:** It is easy to iterate over the keys in a dictionary:"
   ]
  },
  {
   "cell_type": "code",
   "execution_count": 14,
   "metadata": {
    "collapsed": false,
    "deletable": true,
    "editable": true
   },
   "outputs": [
    {
     "name": "stdout",
     "output_type": "stream",
     "text": [
      "A person has 2 legs\n",
      "A spider has 8 legs\n",
      "A cat has 4 legs\n"
     ]
    }
   ],
   "source": [
    "eip_dict = {'person': 2, 'cat': 4, 'spider': 8}\n",
    "for eip in eip_dict:\n",
    "    mlblr = eip_dict[eip]\n",
    "    print('A %s has %d legs' % (eip, mlblr))\n",
    "# Prints \"A person has 2 legs\", \"A cat has 4 legs\", \"A spider has 8 legs\""
   ]
  },
  {
   "cell_type": "markdown",
   "metadata": {
    "deletable": true,
    "editable": true
   },
   "source": [
    "If you want access to keys and their corresponding values, use the `items` method:"
   ]
  },
  {
   "cell_type": "code",
   "execution_count": 15,
   "metadata": {
    "collapsed": false,
    "deletable": true,
    "editable": true
   },
   "outputs": [
    {
     "name": "stdout",
     "output_type": "stream",
     "text": [
      "A person has 2 legs\n",
      "A spider has 8 legs\n",
      "A cat has 4 legs\n"
     ]
    }
   ],
   "source": [
    "eip_dict = {'person': 2, 'cat': 4, 'spider': 8}\n",
    "for eip, mlblr in eip_dict.items():\n",
    "    print('A %s has %d legs' % (eip, mlblr))\n",
    "# Prints \"A person has 2 legs\", \"A cat has 4 legs\", \"A spider has 8 legs\""
   ]
  },
  {
   "cell_type": "markdown",
   "metadata": {
    "deletable": true,
    "editable": true
   },
   "source": [
    "**Dictionary comprehensions:**\n",
    "These are similar to list comprehensions, but allow you to easily construct\n",
    "dictionaries. For example:"
   ]
  },
  {
   "cell_type": "code",
   "execution_count": 16,
   "metadata": {
    "collapsed": false,
    "deletable": true,
    "editable": true
   },
   "outputs": [
    {
     "name": "stdout",
     "output_type": "stream",
     "text": [
      "{0: 0, 2: 4, 4: 16}\n"
     ]
    }
   ],
   "source": [
    "eip_list = [0, 1, 2, 3, 4]\n",
    "eip_dict = {eip: eip ** 2 for eip in eip_list if eip % 2 == 0}\n",
    "print(eip_dict)  # Prints \"{0: 0, 2: 4, 4: 16}\""
   ]
  },
  {
   "cell_type": "markdown",
   "metadata": {
    "deletable": true,
    "editable": true
   },
   "source": [
    "<a name='python-sets'></a>\n",
    "\n",
    "#### Sets\n",
    "A set is an unordered collection of distinct elements. As a simple example, consider\n",
    "the following:"
   ]
  },
  {
   "cell_type": "code",
   "execution_count": 17,
   "metadata": {
    "collapsed": false,
    "deletable": true,
    "editable": true
   },
   "outputs": [
    {
     "name": "stdout",
     "output_type": "stream",
     "text": [
      "True\n",
      "False\n",
      "True\n",
      "3\n",
      "3\n",
      "2\n"
     ]
    }
   ],
   "source": [
    "eip_dict = {'cat', 'dog'}\n",
    "print('cat' in eip_dict)   # Check if an element is in a set; prints \"True\"\n",
    "print('fish' in eip_dict)  # prints \"False\"\n",
    "eip_dict.add('fish')       # Add an element to a set\n",
    "print('fish' in eip_dict)  # Prints \"True\"\n",
    "print(len(eip_dict))       # Number of elements in a set; prints \"3\"\n",
    "eip_dict.add('cat')        # Adding an element that is already in the set does nothing\n",
    "print(len(eip_dict))       # Prints \"3\"\n",
    "eip_dict.remove('cat')     # Remove an element from a set\n",
    "print(len(eip_dict))       # Prints \"2\""
   ]
  },
  {
   "cell_type": "markdown",
   "metadata": {
    "deletable": true,
    "editable": true
   },
   "source": [
    "As usual, everything you want to know about sets can be found\n",
    "[in the documentation](https://docs.python.org/3.5/library/stdtypes.html#set).\n",
    "\n",
    "\n",
    "**Loops:**\n",
    "Iterating over a set has the same syntax as iterating over a list;\n",
    "however since sets are unordered, you cannot make assumptions about the order\n",
    "in which you visit the elements of the set:"
   ]
  },
  {
   "cell_type": "code",
   "execution_count": 18,
   "metadata": {
    "collapsed": false,
    "deletable": true,
    "editable": true
   },
   "outputs": [
    {
     "name": "stdout",
     "output_type": "stream",
     "text": [
      "#1: fish\n",
      "#2: dog\n",
      "#3: cat\n"
     ]
    }
   ],
   "source": [
    "eip_dict = {'cat', 'dog', 'fish'}\n",
    "for eip_in, eip_out in enumerate(eip_dict):\n",
    "    print('#%d: %s' % (eip_in + 1, eip_out))\n",
    "# Prints \"#1: fish\", \"#2: dog\", \"#3: cat\""
   ]
  },
  {
   "cell_type": "markdown",
   "metadata": {
    "deletable": true,
    "editable": true
   },
   "source": [
    "**Set comprehensions:**\n",
    "Like lists and dictionaries, we can easily construct sets using set comprehensions:"
   ]
  },
  {
   "cell_type": "code",
   "execution_count": 19,
   "metadata": {
    "collapsed": false,
    "deletable": true,
    "editable": true
   },
   "outputs": [
    {
     "name": "stdout",
     "output_type": "stream",
     "text": [
      "set([0, 1, 2, 3, 4, 5])\n"
     ]
    }
   ],
   "source": [
    "from math import sqrt\n",
    "eip_dict = {int(sqrt(eip)) for eip in range(30)}\n",
    "print(eip_dict)  # Prints \"{0, 1, 2, 3, 4, 5}\""
   ]
  },
  {
   "cell_type": "markdown",
   "metadata": {
    "deletable": true,
    "editable": true
   },
   "source": [
    "<a name='python-tuples'></a>\n",
    "\n",
    "#### Tuples\n",
    "A tuple is an (immutable) ordered list of values.\n",
    "A tuple is in many ways similar to a list; one of the most important differences is that\n",
    "tuples can be used as keys in dictionaries and as elements of sets, while lists cannot.\n",
    "Here is a trivial example:"
   ]
  },
  {
   "cell_type": "code",
   "execution_count": 20,
   "metadata": {
    "collapsed": false,
    "deletable": true,
    "editable": true
   },
   "outputs": [
    {
     "name": "stdout",
     "output_type": "stream",
     "text": [
      "<type 'tuple'>\n",
      "5\n",
      "1\n"
     ]
    }
   ],
   "source": [
    "eip_dict = {(eip, eip + 1): eip for eip in range(10)}  # Create a dictionary with tuple keys\n",
    "mlblr = (5, 6)        # Create a tuple\n",
    "print(type(mlblr))    # Prints \"<class 'tuple'>\"\n",
    "print(eip_dict[mlblr])       # Prints \"5\"\n",
    "print(eip_dict[(1, 2)])  # Prints \"1\""
   ]
  },
  {
   "cell_type": "markdown",
   "metadata": {
    "deletable": true,
    "editable": true
   },
   "source": [
    "[The documentation](https://docs.python.org/3.5/tutorial/datastructures.html#tuples-and-sequences) has more information about tuples.\n",
    "\n",
    "<a name='python-functions'></a>\n",
    "\n",
    "### Functions\n",
    "Python functions are defined using the `def` keyword. For example:"
   ]
  },
  {
   "cell_type": "code",
   "execution_count": 21,
   "metadata": {
    "collapsed": false,
    "deletable": true,
    "editable": true
   },
   "outputs": [
    {
     "name": "stdout",
     "output_type": "stream",
     "text": [
      "negative\n",
      "zero\n",
      "positive\n"
     ]
    }
   ],
   "source": [
    "def sign(mlblr):\n",
    "    if mlblr > 0:\n",
    "        return 'positive'\n",
    "    elif mlblr < 0:\n",
    "        return 'negative'\n",
    "    else:\n",
    "        return 'zero'\n",
    "\n",
    "for mlblr in [-1, 0, 1]:\n",
    "    print(sign(mlblr))\n",
    "# Prints \"negative\", \"zero\", \"positive\""
   ]
  },
  {
   "cell_type": "markdown",
   "metadata": {
    "deletable": true,
    "editable": true
   },
   "source": [
    "We will often define functions to take optional keyword arguments, like this:"
   ]
  },
  {
   "cell_type": "code",
   "execution_count": 22,
   "metadata": {
    "collapsed": false,
    "deletable": true,
    "editable": true
   },
   "outputs": [
    {
     "name": "stdout",
     "output_type": "stream",
     "text": [
      "Hello, Bob\n",
      "HELLO, FRED!\n"
     ]
    }
   ],
   "source": [
    "def hello(eip, mlblr=False):\n",
    "    if mlblr:\n",
    "        print('HELLO, %s!' % eip.upper())\n",
    "    else:\n",
    "        print('Hello, %s' % eip)\n",
    "\n",
    "hello('Bob') # Prints \"Hello, Bob\"\n",
    "hello('Fred', mlblr=True)  # Prints \"HELLO, FRED!\""
   ]
  },
  {
   "cell_type": "markdown",
   "metadata": {
    "deletable": true,
    "editable": true
   },
   "source": [
    "There is a lot more information about Python functions\n",
    "[in the documentation](https://docs.python.org/3.5/tutorial/controlflow.html#defining-functions).\n",
    "\n",
    "<a name='python-classes'></a>\n",
    "\n",
    "### Classes\n",
    "\n",
    "The syntax for defining classes in Python is straightforward:"
   ]
  },
  {
   "cell_type": "code",
   "execution_count": 23,
   "metadata": {
    "collapsed": false,
    "deletable": true,
    "editable": true
   },
   "outputs": [
    {
     "name": "stdout",
     "output_type": "stream",
     "text": [
      "Hello, Fred\n",
      "HELLO, FRED!\n"
     ]
    }
   ],
   "source": [
    "class Greeter(object):\n",
    "\n",
    "    # Constructor\n",
    "    def __init__(self, eip):\n",
    "        self.eip = eip  # Create an instance variable\n",
    "\n",
    "    # Instance method\n",
    "    def greet(self, mlblr=False):\n",
    "        if mlblr:\n",
    "            print('HELLO, %s!' % self.eip.upper())\n",
    "        else:\n",
    "            print('Hello, %s' % self.eip)\n",
    "\n",
    "eip_out = Greeter('Fred')  # Construct an instance of the Greeter class\n",
    "eip_out.greet()            # Call an instance method; prints \"Hello, Fred\"\n",
    "eip_out.greet(mlblr=True)   # Call an instance method; prints \"HELLO, FRED!\""
   ]
  },
  {
   "cell_type": "markdown",
   "metadata": {
    "deletable": true,
    "editable": true
   },
   "source": [
    "You can read a lot more about Python classes\n",
    "[in the documentation](https://docs.python.org/3.5/tutorial/classes.html).\n",
    "\n",
    "<a name='numpy'></a>\n",
    "\n",
    "## Numpy\n",
    "\n",
    "[Numpy](http://www.numpy.org/) is the core library for scientific computing in Python.\n",
    "It provides a high-performance multidimensional array object, and tools for working with these\n",
    "arrays. If you are already familiar with MATLAB, you might find\n",
    "[this tutorial useful](http://wiki.scipy.org/NumPy_for_Matlab_Users) to get started with Numpy.\n",
    "\n",
    "<a name='numpy-arrays'></a>\n",
    "\n",
    "### Arrays\n",
    "A numpy array is a grid of values, all of the same type, and is indexed by a tuple of\n",
    "nonnegative integers. The number of dimensions is the *rank* of the array; the *shape*\n",
    "of an array is a tuple of integers giving the size of the array along each dimension.\n",
    "\n",
    "We can initialize numpy arrays from nested Python lists,\n",
    "and access elements using square brackets:"
   ]
  },
  {
   "cell_type": "code",
   "execution_count": 24,
   "metadata": {
    "collapsed": false,
    "deletable": true,
    "editable": true
   },
   "outputs": [
    {
     "name": "stdout",
     "output_type": "stream",
     "text": [
      "<type 'numpy.ndarray'>\n",
      "(3,)\n",
      "(1, 2, 3)\n",
      "[5 2 3]\n",
      "(2, 3)\n",
      "(1, 2, 4)\n"
     ]
    }
   ],
   "source": [
    "import numpy\n",
    "\n",
    "eip_list = numpy.array([1, 2, 3])   # Create a rank 1 array\n",
    "print(type(eip_list))            # Prints \"<class 'numpy.ndarray'>\"\n",
    "print(eip_list.shape)            # Prints \"(3,)\"\n",
    "print(eip_list[0], eip_list[1], eip_list[2])   # Prints \"1 2 3\"\n",
    "eip_list[0] = 5                  # Change an element of the array\n",
    "print(eip_list)                  # Prints \"[5, 2, 3]\"\n",
    "\n",
    "mlblr = numpy.array([[1,2,3],[4,5,6]])    # Create a rank 2 array\n",
    "print(mlblr.shape)                     # Prints \"(2, 3)\"\n",
    "print(mlblr[0, 0], mlblr[0, 1], mlblr[1, 0])   # Prints \"1 2 4\""
   ]
  },
  {
   "cell_type": "markdown",
   "metadata": {
    "deletable": true,
    "editable": true
   },
   "source": [
    "Numpy also provides many functions to create arrays:"
   ]
  },
  {
   "cell_type": "code",
   "execution_count": 25,
   "metadata": {
    "collapsed": false,
    "deletable": true,
    "editable": true
   },
   "outputs": [
    {
     "name": "stdout",
     "output_type": "stream",
     "text": [
      "[[ 0.  0.]\n",
      " [ 0.  0.]]\n",
      "[[ 1.  1.]]\n",
      "[[7 7]\n",
      " [7 7]]\n",
      "[[ 1.  0.]\n",
      " [ 0.  1.]]\n",
      "[[ 0.87029724  0.92033623]\n",
      " [ 0.69045377  0.44784968]]\n"
     ]
    }
   ],
   "source": [
    "import numpy\n",
    "\n",
    "eip_list = numpy.zeros((2,2))   # Create an array of all zeros\n",
    "print(eip_list)              # Prints \"[[ 0.  0.]\n",
    "                      #          [ 0.  0.]]\"\n",
    "\n",
    "mlblr = numpy.ones((1,2))    # Create an array of all ones\n",
    "print(mlblr)              # Prints \"[[ 1.  1.]]\"\n",
    "\n",
    "eip = numpy.full((2,2), 7)  # Create a constant array\n",
    "print(eip)               # Prints \"[[ 7.  7.]\n",
    "                       #          [ 7.  7.]]\"\n",
    "\n",
    "eip_in = numpy.eye(2)         # Create a 2x2 identity matrix\n",
    "print(eip_in)              # Prints \"[[ 1.  0.]\n",
    "                      #          [ 0.  1.]]\"\n",
    "\n",
    "eip_out = numpy.random.random((2,2))  # Create an array filled with random values\n",
    "print(eip_out)                     # Might print \"[[ 0.91940167  0.08143941]\n",
    "                             #               [ 0.68744134  0.87236687]]\""
   ]
  },
  {
   "cell_type": "markdown",
   "metadata": {
    "deletable": true,
    "editable": true
   },
   "source": [
    "You can read about other methods of array creation\n",
    "[in the documentation](http://docs.scipy.org/doc/numpy/user/basics.creation.html#arrays-creation).\n",
    "\n",
    "<a name='numpy-array-indexing'></a>\n",
    "\n",
    "### Array indexing\n",
    "Numpy offers several ways to index into arrays.\n",
    "\n",
    "**Slicing:**\n",
    "Similar to Python lists, numpy arrays can be sliced.\n",
    "Since arrays may be multidimensional, you must specify a slice for each dimension\n",
    "of the array:"
   ]
  },
  {
   "cell_type": "code",
   "execution_count": 26,
   "metadata": {
    "collapsed": false,
    "deletable": true,
    "editable": true
   },
   "outputs": [
    {
     "name": "stdout",
     "output_type": "stream",
     "text": [
      "2\n",
      "77\n"
     ]
    }
   ],
   "source": [
    "import numpy\n",
    "\n",
    "# Create the following rank 2 array with shape (3, 4)\n",
    "# [[ 1  2  3  4]\n",
    "#  [ 5  6  7  8]\n",
    "#  [ 9 10 11 12]]\n",
    "eip_list = numpy.array([[1,2,3,4], [5,6,7,8], [9,10,11,12]])\n",
    "\n",
    "# Use slicing to pull out the subarray consisting of the first 2 rows\n",
    "# and columns 1 and 2; b is the following array of shape (2, 2):\n",
    "# [[2 3]\n",
    "#  [6 7]]\n",
    "eip = eip_list[:2, 1:3]\n",
    "\n",
    "# A slice of an array is a view into the same data, so modifying it\n",
    "# will modify the original array.\n",
    "print(eip_list[0, 1])   # Prints \"2\"\n",
    "eip[0, 0] = 77     # b[0, 0] is the same piece of data as a[0, 1]\n",
    "print(eip_list[0, 1])   # Prints \"77\""
   ]
  },
  {
   "cell_type": "markdown",
   "metadata": {
    "deletable": true,
    "editable": true
   },
   "source": [
    "You can also mix integer indexing with slice indexing.\n",
    "However, doing so will yield an array of lower rank than the original array.\n",
    "Note that this is quite different from the way that MATLAB handles array\n",
    "slicing:"
   ]
  },
  {
   "cell_type": "code",
   "execution_count": 27,
   "metadata": {
    "collapsed": false,
    "deletable": true,
    "editable": true
   },
   "outputs": [
    {
     "name": "stdout",
     "output_type": "stream",
     "text": [
      "(array([5, 6, 7, 8]), (4,))\n",
      "(array([[5, 6, 7, 8]]), (1, 4))\n",
      "(array([ 2,  6, 10]), (3,))\n",
      "(array([[ 2],\n",
      "       [ 6],\n",
      "       [10]]), (3, 1))\n"
     ]
    }
   ],
   "source": [
    "import numpy\n",
    "\n",
    "# Create the following rank 2 array with shape (3, 4)\n",
    "# [[ 1  2  3  4]\n",
    "#  [ 5  6  7  8]\n",
    "#  [ 9 10 11 12]]\n",
    "eip_list = numpy.array([[1,2,3,4], [5,6,7,8], [9,10,11,12]])\n",
    "\n",
    "# Two ways of accessing the data in the middle row of the array.\n",
    "# Mixing integer indexing with slices yields an array of lower rank,\n",
    "# while using only slices yields an array of the same rank as the\n",
    "# original array:\n",
    "eip = eip_list[1, :]    # Rank 1 view of the second row of a\n",
    "eip_out = eip_list[1:2, :]  # Rank 2 view of the second row of a\n",
    "print(eip, eip.shape)  # Prints \"[5 6 7 8] (4,)\"\n",
    "print(eip_out, eip_out.shape)  # Prints \"[[5 6 7 8]] (1, 4)\"\n",
    "\n",
    "# We can make the same distinction when accessing columns of an array:\n",
    "mlblr = eip_list[:, 1]\n",
    "mlblr_out = eip_list[:, 1:2]\n",
    "print(mlblr, mlblr.shape)  # Prints \"[ 2  6 10] (3,)\"\n",
    "print(mlblr_out, mlblr_out.shape)  # Prints \"[[ 2]\n",
    "                             #          [ 6]\n",
    "                             #          [10]] (3, 1)\""
   ]
  },
  {
   "cell_type": "markdown",
   "metadata": {
    "deletable": true,
    "editable": true
   },
   "source": [
    "**Integer array indexing:**\n",
    "When you index into numpy arrays using slicing, the resulting array view\n",
    "will always be a subarray of the original array. In contrast, integer array\n",
    "indexing allows you to construct arbitrary arrays using the data from another\n",
    "array. Here is an example:"
   ]
  },
  {
   "cell_type": "code",
   "execution_count": 28,
   "metadata": {
    "collapsed": false,
    "deletable": true,
    "editable": true
   },
   "outputs": [
    {
     "name": "stdout",
     "output_type": "stream",
     "text": [
      "[1 4 5]\n",
      "[1 4 5]\n",
      "[2 2]\n",
      "[2 2]\n"
     ]
    }
   ],
   "source": [
    "import numpy\n",
    "\n",
    "eip_list = numpy.array([[1,2], [3, 4], [5, 6]])\n",
    "\n",
    "# An example of integer array indexing.\n",
    "# The returned array will have shape (3,) and\n",
    "print(eip_list[[0, 1, 2], [0, 1, 0]])  # Prints \"[1 4 5]\"\n",
    "\n",
    "# The above example of integer array indexing is equivalent to this:\n",
    "print(numpy.array([eip_list[0, 0], eip_list[1, 1], eip_list[2, 0]]))  # Prints \"[1 4 5]\"\n",
    "\n",
    "# When using integer array indexing, you can reuse the same\n",
    "# element from the source array:\n",
    "print(eip_list[[0, 0], [1, 1]])  # Prints \"[2 2]\"\n",
    "\n",
    "# Equivalent to the previous integer array indexing example\n",
    "print(numpy.array([eip_list[0, 1], eip_list[0, 1]]))  # Prints \"[2 2]\""
   ]
  },
  {
   "cell_type": "markdown",
   "metadata": {
    "deletable": true,
    "editable": true
   },
   "source": [
    "One useful trick with integer array indexing is selecting or mutating one\n",
    "element from each row of a matrix:"
   ]
  },
  {
   "cell_type": "code",
   "execution_count": 29,
   "metadata": {
    "collapsed": false,
    "deletable": true,
    "editable": true
   },
   "outputs": [
    {
     "name": "stdout",
     "output_type": "stream",
     "text": [
      "[[ 1  2  3]\n",
      " [ 4  5  6]\n",
      " [ 7  8  9]\n",
      " [10 11 12]]\n",
      "[ 1  6  7 11]\n",
      "[[11  2  3]\n",
      " [ 4  5 16]\n",
      " [17  8  9]\n",
      " [10 21 12]]\n"
     ]
    }
   ],
   "source": [
    "import numpy\n",
    "\n",
    "# Create a new array from which we will select elements\n",
    "eip_list = numpy.array([[1,2,3], [4,5,6], [7,8,9], [10, 11, 12]])\n",
    "\n",
    "print(eip_list)  # prints \"array([[ 1,  2,  3],\n",
    "          #                [ 4,  5,  6],\n",
    "          #                [ 7,  8,  9],\n",
    "          #                [10, 11, 12]])\"\n",
    "\n",
    "# Create an array of indices\n",
    "eip = numpy.array([0, 2, 0, 1])\n",
    "\n",
    "# Select one element from each row of a using the indices in b\n",
    "print(eip_list[numpy.arange(4), eip])  # Prints \"[ 1  6  7 11]\"\n",
    "\n",
    "# Mutate one element from each row of a using the indices in b\n",
    "eip_list[numpy.arange(4), eip] += 10\n",
    "\n",
    "print(eip_list)  # prints \"array([[11,  2,  3],\n",
    "          #                [ 4,  5, 16],\n",
    "          #                [17,  8,  9],\n",
    "          #                [10, 21, 12]])"
   ]
  },
  {
   "cell_type": "markdown",
   "metadata": {
    "deletable": true,
    "editable": true
   },
   "source": [
    "**Boolean array indexing:**\n",
    "Boolean array indexing lets you pick out arbitrary elements of an array.\n",
    "Frequently this type of indexing is used to select the elements of an array\n",
    "that satisfy some condition. Here is an example:"
   ]
  },
  {
   "cell_type": "code",
   "execution_count": 30,
   "metadata": {
    "collapsed": false,
    "deletable": true,
    "editable": true
   },
   "outputs": [
    {
     "name": "stdout",
     "output_type": "stream",
     "text": [
      "[[False False]\n",
      " [ True  True]\n",
      " [ True  True]]\n",
      "[3 4 5 6]\n",
      "[3 4 5 6]\n"
     ]
    }
   ],
   "source": [
    "import numpy\n",
    "\n",
    "eip_list = numpy.array([[1,2], [3, 4], [5, 6]])\n",
    "\n",
    "eip_in = (eip_list > 2)   # Find the elements of a that are bigger than 2;\n",
    "                     # this returns a numpy array of Booleans of the same\n",
    "                     # shape as a, where each slot of bool_idx tells\n",
    "                     # whether that element of a is > 2.\n",
    "\n",
    "print(eip_in)      # Prints \"[[False False]\n",
    "                     #          [ True  True]\n",
    "                     #          [ True  True]]\"\n",
    "\n",
    "# We use boolean array indexing to construct a rank 1 array\n",
    "# consisting of the elements of a corresponding to the True values\n",
    "# of bool_idx\n",
    "print(eip_list[eip_in])  # Prints \"[3 4 5 6]\"\n",
    "\n",
    "# We can do all of the above in a single concise statement:\n",
    "print(eip_list[eip_list > 2])     # Prints \"[3 4 5 6]\""
   ]
  },
  {
   "cell_type": "markdown",
   "metadata": {
    "deletable": true,
    "editable": true
   },
   "source": [
    "For brevity we have left out a lot of details about numpy array indexing;\n",
    "if you want to know more you should\n",
    "[read the documentation](http://docs.scipy.org/doc/numpy/reference/arrays.indexing.html).\n",
    "\n",
    "<a name='numpy-datatypes'></a>\n",
    "\n",
    "### Datatypes\n",
    "Every numpy array is a grid of elements of the same type.\n",
    "Numpy provides a large set of numeric datatypes that you can use to construct arrays.\n",
    "Numpy tries to guess a datatype when you create an array, but functions that construct\n",
    "arrays usually also include an optional argument to explicitly specify the datatype.\n",
    "Here is an example:"
   ]
  },
  {
   "cell_type": "code",
   "execution_count": 31,
   "metadata": {
    "collapsed": false,
    "deletable": true,
    "editable": true
   },
   "outputs": [
    {
     "name": "stdout",
     "output_type": "stream",
     "text": [
      "int64\n",
      "float64\n",
      "int64\n"
     ]
    }
   ],
   "source": [
    "import numpy\n",
    "\n",
    "eip_list = numpy.array([1, 2])   # Let numpy choose the datatype\n",
    "print(eip_list.dtype)         # Prints \"int64\"\n",
    "\n",
    "eip_list = numpy.array([1.0, 2.0])   # Let numpy choose the datatype\n",
    "print(eip_list.dtype)             # Prints \"float64\"\n",
    "\n",
    "eip_list = numpy.array([1, 2], dtype=numpy.int64)   # Force a particular datatype\n",
    "print(eip_list.dtype)                         # Prints \"int64\""
   ]
  },
  {
   "cell_type": "markdown",
   "metadata": {
    "deletable": true,
    "editable": true
   },
   "source": [
    "You can read all about numpy datatypes\n",
    "[in the documentation](http://docs.scipy.org/doc/numpy/reference/arrays.dtypes.html).\n",
    "\n",
    "<a name='numpy-math'></a>\n",
    "\n",
    "### Array math\n",
    "Basic mathematical functions operate elementwise on arrays, and are available\n",
    "both as operator overloads and as functions in the numpy module:"
   ]
  },
  {
   "cell_type": "code",
   "execution_count": 32,
   "metadata": {
    "collapsed": false,
    "deletable": true,
    "editable": true
   },
   "outputs": [
    {
     "name": "stdout",
     "output_type": "stream",
     "text": [
      "[[  6.   8.]\n",
      " [ 10.  12.]]\n",
      "[[  6.   8.]\n",
      " [ 10.  12.]]\n",
      "[[-4. -4.]\n",
      " [-4. -4.]]\n",
      "[[-4. -4.]\n",
      " [-4. -4.]]\n",
      "[[  5.  12.]\n",
      " [ 21.  32.]]\n",
      "[[  5.  12.]\n",
      " [ 21.  32.]]\n",
      "[[ 0.2         0.33333333]\n",
      " [ 0.42857143  0.5       ]]\n",
      "[[ 0.2         0.33333333]\n",
      " [ 0.42857143  0.5       ]]\n",
      "[[ 1.          1.41421356]\n",
      " [ 1.73205081  2.        ]]\n"
     ]
    }
   ],
   "source": [
    "import numpy\n",
    "\n",
    "eip_list = numpy.array([[1,2],[3,4]], dtype=numpy.float64)\n",
    "eip = numpy.array([[5,6],[7,8]], dtype=numpy.float64)\n",
    "\n",
    "# Elementwise sum; both produce the array\n",
    "# [[ 6.0  8.0]\n",
    "#  [10.0 12.0]]\n",
    "print(eip_list + eip)\n",
    "print(numpy.add(eip_list, eip))\n",
    "\n",
    "# Elementwise difference; both produce the array\n",
    "# [[-4.0 -4.0]\n",
    "#  [-4.0 -4.0]]\n",
    "print(eip_list - eip)\n",
    "print(numpy.subtract(eip_list, eip))\n",
    "\n",
    "# Elementwise product; both produce the array\n",
    "# [[ 5.0 12.0]\n",
    "#  [21.0 32.0]]\n",
    "print(eip_list * eip)\n",
    "print(numpy.multiply(eip_list, eip))\n",
    "\n",
    "# Elementwise division; both produce the array\n",
    "# [[ 0.2         0.33333333]\n",
    "#  [ 0.42857143  0.5       ]]\n",
    "print(eip_list / eip)\n",
    "print(numpy.divide(eip_list, eip))\n",
    "\n",
    "# Elementwise square root; produces the array\n",
    "# [[ 1.          1.41421356]\n",
    "#  [ 1.73205081  2.        ]]\n",
    "print(numpy.sqrt(eip_list))"
   ]
  },
  {
   "cell_type": "markdown",
   "metadata": {
    "deletable": true,
    "editable": true
   },
   "source": [
    "Note that unlike MATLAB, `*` is elementwise multiplication, not matrix\n",
    "multiplication. We instead use the `dot` function to compute inner\n",
    "products of vectors, to multiply a vector by a matrix, and to\n",
    "multiply matrices. `dot` is available both as a function in the numpy\n",
    "module and as an instance method of array objects:"
   ]
  },
  {
   "cell_type": "code",
   "execution_count": 33,
   "metadata": {
    "collapsed": false,
    "deletable": true,
    "editable": true
   },
   "outputs": [
    {
     "name": "stdout",
     "output_type": "stream",
     "text": [
      "219\n",
      "219\n",
      "[29 67]\n",
      "[29 67]\n",
      "[[19 22]\n",
      " [43 50]]\n",
      "[[19 22]\n",
      " [43 50]]\n"
     ]
    }
   ],
   "source": [
    "import numpy\n",
    "\n",
    "eip_list = numpy.array([[1,2],[3,4]])\n",
    "eip = numpy.array([[5,6],[7,8]])\n",
    "\n",
    "eip_in = numpy.array([9,10])\n",
    "eip_out = numpy.array([11, 12])\n",
    "\n",
    "# Inner product of vectors; both produce 219\n",
    "print(eip_in.dot(eip_out))\n",
    "print(numpy.dot(eip_in, eip_out))\n",
    "\n",
    "# Matrix / vector product; both produce the rank 1 array [29 67]\n",
    "print(eip_list.dot(eip_in))\n",
    "print(numpy.dot(eip_list, eip_in))\n",
    "\n",
    "# Matrix / matrix product; both produce the rank 2 array\n",
    "# [[19 22]\n",
    "#  [43 50]]\n",
    "print(eip_list.dot(eip))\n",
    "print(numpy.dot(eip_list, eip))"
   ]
  },
  {
   "cell_type": "markdown",
   "metadata": {
    "deletable": true,
    "editable": true
   },
   "source": [
    "Numpy provides many useful functions for performing computations on\n",
    "arrays; one of the most useful is `sum`:"
   ]
  },
  {
   "cell_type": "code",
   "execution_count": 34,
   "metadata": {
    "collapsed": false,
    "deletable": true,
    "editable": true
   },
   "outputs": [
    {
     "name": "stdout",
     "output_type": "stream",
     "text": [
      "10\n",
      "[4 6]\n",
      "[3 7]\n"
     ]
    }
   ],
   "source": [
    "import numpy\n",
    "\n",
    "eip_list = numpy.array([[1,2],[3,4]])\n",
    "\n",
    "print(numpy.sum(eip_list))  # Compute sum of all elements; prints \"10\"\n",
    "print(numpy.sum(eip_list, axis=0))  # Compute sum of each column; prints \"[4 6]\"\n",
    "print(numpy.sum(eip_list, axis=1))  # Compute sum of each row; prints \"[3 7]\""
   ]
  },
  {
   "cell_type": "markdown",
   "metadata": {
    "deletable": true,
    "editable": true
   },
   "source": [
    "You can find the full list of mathematical functions provided by numpy\n",
    "[in the documentation](http://docs.scipy.org/doc/numpy/reference/routines.math.html).\n",
    "\n",
    "Apart from computing mathematical functions using arrays, we frequently\n",
    "need to reshape or otherwise manipulate data in arrays. The simplest example\n",
    "of this type of operation is transposing a matrix; to transpose a matrix,\n",
    "simply use the `T` attribute of an array object:"
   ]
  },
  {
   "cell_type": "code",
   "execution_count": 35,
   "metadata": {
    "collapsed": false,
    "deletable": true,
    "editable": true
   },
   "outputs": [
    {
     "name": "stdout",
     "output_type": "stream",
     "text": [
      "[[1 2]\n",
      " [3 4]]\n",
      "[[1 3]\n",
      " [2 4]]\n",
      "[1 2 3]\n",
      "[1 2 3]\n"
     ]
    }
   ],
   "source": [
    "import numpy\n",
    "\n",
    "eip_list = numpy.array([[1,2], [3,4]])\n",
    "print(eip_list)    # Prints \"[[1 2]\n",
    "            #          [3 4]]\"\n",
    "print(eip_list.T)  # Prints \"[[1 3]\n",
    "            #          [2 4]]\"\n",
    "\n",
    "# Note that taking the transpose of a rank 1 array does nothing:\n",
    "eip_out = numpy.array([1,2,3])\n",
    "print(eip_out)    # Prints \"[1 2 3]\"\n",
    "print(eip_out.T)  # Prints \"[1 2 3]\""
   ]
  },
  {
   "cell_type": "markdown",
   "metadata": {
    "deletable": true,
    "editable": true
   },
   "source": [
    "Numpy provides many more functions for manipulating arrays; you can see the full list\n",
    "[in the documentation](http://docs.scipy.org/doc/numpy/reference/routines.array-manipulation.html).\n",
    "\n",
    "\n",
    "<a name='numpy-broadcasting'></a>\n",
    "\n",
    "### Broadcasting\n",
    "Broadcasting is a powerful mechanism that allows numpy to work with arrays of different\n",
    "shapes when performing arithmetic operations. Frequently we have a smaller array and a\n",
    "larger array, and we want to use the smaller array multiple times to perform some operation\n",
    "on the larger array.\n",
    "\n",
    "For example, suppose that we want to add a constant vector to each\n",
    "row of a matrix. We could do it like this:"
   ]
  },
  {
   "cell_type": "code",
   "execution_count": 36,
   "metadata": {
    "collapsed": false,
    "deletable": true,
    "editable": true
   },
   "outputs": [
    {
     "name": "stdout",
     "output_type": "stream",
     "text": [
      "[[ 2  2  4]\n",
      " [ 5  5  7]\n",
      " [ 8  8 10]\n",
      " [11 11 13]]\n"
     ]
    }
   ],
   "source": [
    "import numpy\n",
    "\n",
    "# We will add the vector v to each row of the matrix x,\n",
    "# storing the result in the matrix y\n",
    "eip_list = numpy.array([[1,2,3], [4,5,6], [7,8,9], [10, 11, 12]])\n",
    "eip_out = numpy.array([1, 0, 1])\n",
    "eip = numpy.empty_like(eip_list)   # Create an empty matrix with the same shape as x\n",
    "\n",
    "# Add the vector v to each row of the matrix x with an explicit loop\n",
    "for eip_in in range(4):\n",
    "    eip[eip_in, :] = eip_list[eip_in, :] + eip_out\n",
    "\n",
    "# Now y is the following\n",
    "# [[ 2  2  4]\n",
    "#  [ 5  5  7]\n",
    "#  [ 8  8 10]\n",
    "#  [11 11 13]]\n",
    "print(eip)"
   ]
  },
  {
   "cell_type": "markdown",
   "metadata": {
    "deletable": true,
    "editable": true
   },
   "source": [
    "This works; however when the matrix `x` is very large, computing an explicit loop\n",
    "in Python could be slow. Note that adding the vector `v` to each row of the matrix\n",
    "`x` is equivalent to forming a matrix `vv` by stacking multiple copies of `v` vertically,\n",
    "then performing elementwise summation of `x` and `vv`. We could implement this\n",
    "approach like this:"
   ]
  },
  {
   "cell_type": "code",
   "execution_count": 37,
   "metadata": {
    "collapsed": false,
    "deletable": true,
    "editable": true
   },
   "outputs": [
    {
     "name": "stdout",
     "output_type": "stream",
     "text": [
      "[[1 0 1]\n",
      " [1 0 1]\n",
      " [1 0 1]\n",
      " [1 0 1]]\n",
      "[[ 2  2  4]\n",
      " [ 5  5  7]\n",
      " [ 8  8 10]\n",
      " [11 11 13]]\n"
     ]
    }
   ],
   "source": [
    "import numpy\n",
    "\n",
    "# We will add the vector v to each row of the matrix x,\n",
    "# storing the result in the matrix y\n",
    "eip_list = numpy.array([[1,2,3], [4,5,6], [7,8,9], [10, 11, 12]])\n",
    "eip_out = numpy.array([1, 0, 1])\n",
    "eip_in = numpy.tile(eip_out, (4, 1))   # Stack 4 copies of v on top of each other\n",
    "print(eip_in)                 # Prints \"[[1 0 1]\n",
    "                          #          [1 0 1]\n",
    "                          #          [1 0 1]\n",
    "                          #          [1 0 1]]\"\n",
    "eip = eip_list + eip_in  # Add x and vv elementwise\n",
    "print(eip)  # Prints \"[[ 2  2  4\n",
    "          #          [ 5  5  7]\n",
    "          #          [ 8  8 10]\n",
    "          #          [11 11 13]]\""
   ]
  },
  {
   "cell_type": "markdown",
   "metadata": {
    "deletable": true,
    "editable": true
   },
   "source": [
    "Numpy broadcasting allows us to perform this computation without actually\n",
    "creating multiple copies of `v`. Consider this version, using broadcasting:"
   ]
  },
  {
   "cell_type": "code",
   "execution_count": 38,
   "metadata": {
    "collapsed": false,
    "deletable": true,
    "editable": true
   },
   "outputs": [
    {
     "name": "stdout",
     "output_type": "stream",
     "text": [
      "[[ 2  2  4]\n",
      " [ 5  5  7]\n",
      " [ 8  8 10]\n",
      " [11 11 13]]\n"
     ]
    }
   ],
   "source": [
    "import numpy\n",
    "\n",
    "# We will add the vector v to each row of the matrix x,\n",
    "# storing the result in the matrix y\n",
    "eip_list = numpy.array([[1,2,3], [4,5,6], [7,8,9], [10, 11, 12]])\n",
    "eip_out = numpy.array([1, 0, 1])\n",
    "eip = eip_list + eip_out  # Add v to each row of x using broadcasting\n",
    "print(eip)  # Prints \"[[ 2  2  4]\n",
    "          #          [ 5  5  7]\n",
    "          #          [ 8  8 10]\n",
    "          #          [11 11 13]]\""
   ]
  },
  {
   "cell_type": "markdown",
   "metadata": {
    "deletable": true,
    "editable": true
   },
   "source": [
    "The line `y = x + v` works even though `x` has shape `(4, 3)` and `v` has shape\n",
    "`(3,)` due to broadcasting; this line works as if `v` actually had shape `(4, 3)`,\n",
    "where each row was a copy of `v`, and the sum was performed elementwise.\n",
    "\n",
    "Broadcasting two arrays together follows these rules:\n",
    "\n",
    "1. If the arrays do not have the same rank, prepend the shape of the lower rank array\n",
    "   with 1s until both shapes have the same length.\n",
    "2. The two arrays are said to be *compatible* in a dimension if they have the same\n",
    "   size in the dimension, or if one of the arrays has size 1 in that dimension.\n",
    "3. The arrays can be broadcast together if they are compatible in all dimensions.\n",
    "4. After broadcasting, each array behaves as if it had shape equal to the elementwise\n",
    "   maximum of shapes of the two input arrays.\n",
    "5. In any dimension where one array had size 1 and the other array had size greater than 1,\n",
    "   the first array behaves as if it were copied along that dimension\n",
    "\n",
    "If this explanation does not make sense, try reading the explanation\n",
    "[from the documentation](http://docs.scipy.org/doc/numpy/user/basics.broadcasting.html)\n",
    "or [this explanation](http://wiki.scipy.org/EricsBroadcastingDoc).\n",
    "\n",
    "Functions that support broadcasting are known as *universal functions*. You can find\n",
    "the list of all universal functions\n",
    "[in the documentation](http://docs.scipy.org/doc/numpy/reference/ufuncs.html#available-ufuncs).\n",
    "\n",
    "Here are some applications of broadcasting:"
   ]
  },
  {
   "cell_type": "code",
   "execution_count": 39,
   "metadata": {
    "collapsed": false,
    "deletable": true,
    "editable": true
   },
   "outputs": [
    {
     "name": "stdout",
     "output_type": "stream",
     "text": [
      "[[ 4  5]\n",
      " [ 8 10]\n",
      " [12 15]]\n",
      "[[2 4 6]\n",
      " [5 7 9]]\n",
      "[[ 5  6  7]\n",
      " [ 9 10 11]]\n",
      "[[ 5  6  7]\n",
      " [ 9 10 11]]\n",
      "[[ 2  4  6]\n",
      " [ 8 10 12]]\n"
     ]
    }
   ],
   "source": [
    "import numpy\n",
    "\n",
    "# Compute outer product of vectors\n",
    "eip_in = numpy.array([1,2,3])  # v has shape (3,)\n",
    "eip_out = numpy.array([4,5])    # w has shape (2,)\n",
    "# To compute an outer product, we first reshape v to be a column\n",
    "# vector of shape (3, 1); we can then broadcast it against w to yield\n",
    "# an output of shape (3, 2), which is the outer product of v and w:\n",
    "# [[ 4  5]\n",
    "#  [ 8 10]\n",
    "#  [12 15]]\n",
    "print(numpy.reshape(eip_in, (3, 1)) * eip_out)\n",
    "\n",
    "# Add a vector to each row of a matrix\n",
    "eip_list = numpy.array([[1,2,3], [4,5,6]])\n",
    "# x has shape (2, 3) and v has shape (3,) so they broadcast to (2, 3),\n",
    "# giving the following matrix:\n",
    "# [[2 4 6]\n",
    "#  [5 7 9]]\n",
    "print(eip_list + eip_in)\n",
    "\n",
    "# Add a vector to each column of a matrix\n",
    "# x has shape (2, 3) and w has shape (2,).\n",
    "# If we transpose x then it has shape (3, 2) and can be broadcast\n",
    "# against w to yield a result of shape (3, 2); transposing this result\n",
    "# yields the final result of shape (2, 3) which is the matrix x with\n",
    "# the vector w added to each column. Gives the following matrix:\n",
    "# [[ 5  6  7]\n",
    "#  [ 9 10 11]]\n",
    "print((eip_list.T + eip_out).T)\n",
    "# Another solution is to reshape w to be a column vector of shape (2, 1);\n",
    "# we can then broadcast it directly against x to produce the same\n",
    "# output.\n",
    "print(eip_list + numpy.reshape(eip_out, (2, 1)))\n",
    "\n",
    "# Multiply a matrix by a constant:\n",
    "# x has shape (2, 3). Numpy treats scalars as arrays of shape ();\n",
    "# these can be broadcast together to shape (2, 3), producing the\n",
    "# following array:\n",
    "# [[ 2  4  6]\n",
    "#  [ 8 10 12]]\n",
    "print(eip_list * 2)"
   ]
  },
  {
   "cell_type": "markdown",
   "metadata": {
    "deletable": true,
    "editable": true
   },
   "source": [
    "Broadcasting typically makes your code more concise and faster, so you\n",
    "should strive to use it where possible.\n",
    "\n",
    "### Numpy Documentation\n",
    "This brief overview has touched on many of the important things that you need to\n",
    "know about numpy, but is far from complete. Check out the\n",
    "[numpy reference](http://docs.scipy.org/doc/numpy/reference/)\n",
    "to find out much more about numpy.\n",
    "\n",
    "<a name='scipy'></a>\n",
    "\n",
    "## SciPy\n",
    "Numpy provides a high-performance multidimensional array and basic tools to\n",
    "compute with and manipulate these arrays.\n",
    "[SciPy](http://docs.scipy.org/doc/scipy/reference/)\n",
    "builds on this, and provides\n",
    "a large number of functions that operate on numpy arrays and are useful for\n",
    "different types of scientific and engineering applications.\n",
    "\n",
    "The best way to get familiar with SciPy is to\n",
    "[browse the documentation](http://docs.scipy.org/doc/scipy/reference/index.html).\n",
    "We will highlight some parts of SciPy that you might find useful for this class.\n",
    "\n",
    "<a name='scipy-image'></a>\n",
    "\n",
    "### Image operations\n",
    "SciPy provides some basic functions to work with images.\n",
    "For example, it has functions to read images from disk into numpy arrays,\n",
    "to write numpy arrays to disk as images, and to resize images.\n",
    "Here is a simple example that showcases these functions:"
   ]
  },
  {
   "cell_type": "code",
   "execution_count": 40,
   "metadata": {
    "collapsed": false,
    "deletable": true,
    "editable": true
   },
   "outputs": [
    {
     "name": "stdout",
     "output_type": "stream",
     "text": [
      "(dtype('uint8'), (400, 248, 3))\n"
     ]
    }
   ],
   "source": [
    "from scipy.misc import imread, imsave, imresize\n",
    "\n",
    "# Read an JPEG image into a numpy array\n",
    "eip = imread('assets/cat.jpg')\n",
    "print(eip.dtype, eip.shape)  # Prints \"uint8 (400, 248, 3)\"\n",
    "\n",
    "# We can tint the image by scaling each of the color channels\n",
    "# by a different scalar constant. The image has shape (400, 248, 3);\n",
    "# we multiply it by the array [1, 0.95, 0.9] of shape (3,);\n",
    "# numpy broadcasting means that this leaves the red channel unchanged,\n",
    "# and multiplies the green and blue channels by 0.95 and 0.9\n",
    "# respectively.\n",
    "eip_out = eip * [1, 0.95, 0.9]\n",
    "\n",
    "# Resize the tinted image to be 300 by 300 pixels.\n",
    "eip_out = imresize(eip_out, (300, 300))\n",
    "\n",
    "# Write the tinted image back to disk\n",
    "imsave('assets/cat_tinted.jpg', eip_out)"
   ]
  },
  {
   "cell_type": "markdown",
   "metadata": {
    "deletable": true,
    "editable": true
   },
   "source": [
    "<div class='fig figcenter fighighlight'>\n",
    "  <img src='assets/cat.jpg'>\n",
    "  <img src='assets/cat_tinted.jpg'>\n",
    "  <div class='figcaption'>\n",
    "    Left: The original image.\n",
    "    Right: The tinted and resized image.\n",
    "  </div>\n",
    "</div>\n",
    "\n",
    "<a name='scipy-matlab'></a>\n",
    "\n",
    "### MATLAB files\n",
    "The functions `scipy.io.loadmat` and `scipy.io.savemat` allow you to read and\n",
    "write MATLAB files. You can read about them\n",
    "[in the documentation](http://docs.scipy.org/doc/scipy/reference/io.html).\n",
    "\n",
    "<a name='scipy-dist'></a>\n",
    "\n",
    "### Distance between points\n",
    "SciPy defines some useful functions for computing distances between sets of points.\n",
    "\n",
    "The function `scipy.spatial.distance.pdist` computes the distance between all pairs\n",
    "of points in a given set:"
   ]
  },
  {
   "cell_type": "code",
   "execution_count": 41,
   "metadata": {
    "collapsed": false,
    "deletable": true,
    "editable": true
   },
   "outputs": [
    {
     "name": "stdout",
     "output_type": "stream",
     "text": [
      "[[0 1]\n",
      " [1 0]\n",
      " [2 0]]\n",
      "[[ 0.          1.41421356  2.23606798]\n",
      " [ 1.41421356  0.          1.        ]\n",
      " [ 2.23606798  1.          0.        ]]\n"
     ]
    }
   ],
   "source": [
    "import numpy\n",
    "from scipy.spatial.distance import pdist, squareform\n",
    "\n",
    "# Create the following array where each row is a point in 2D space:\n",
    "# [[0 1]\n",
    "#  [1 0]\n",
    "#  [2 0]]\n",
    "eip = numpy.array([[0, 1], [1, 0], [2, 0]])\n",
    "print(eip)\n",
    "\n",
    "# Compute the Euclidean distance between all rows of x.\n",
    "# d[i, j] is the Euclidean distance between x[i, :] and x[j, :],\n",
    "# and d is the following array:\n",
    "# [[ 0.          1.41421356  2.23606798]\n",
    "#  [ 1.41421356  0.          1.        ]\n",
    "#  [ 2.23606798  1.          0.        ]]\n",
    "mlblr = squareform(pdist(eip, 'euclidean'))\n",
    "print(mlblr)"
   ]
  },
  {
   "cell_type": "markdown",
   "metadata": {
    "deletable": true,
    "editable": true
   },
   "source": [
    "You can read all the details about this function\n",
    "[in the documentation](http://docs.scipy.org/doc/scipy/reference/generated/scipy.spatial.distance.pdist.html).\n",
    "\n",
    "A similar function (`scipy.spatial.distance.cdist`) computes the distance between all pairs\n",
    "across two sets of points; you can read about it\n",
    "[in the documentation](http://docs.scipy.org/doc/scipy/reference/generated/scipy.spatial.distance.cdist.html).\n",
    "\n",
    "<a name='matplotlib'></a>\n",
    "\n",
    "## Matplotlib\n",
    "[Matplotlib](http://matplotlib.org/) is a plotting library.\n",
    "In this section give a brief introduction to the `matplotlib.pyplot` module,\n",
    "which provides a plotting system similar to that of MATLAB.\n",
    "\n",
    "<a name='matplotlib-plot'></a>\n",
    "\n",
    "### Plotting\n",
    "The most important function in matplotlib is `plot`,\n",
    "which allows you to plot 2D data. Here is a simple example:"
   ]
  },
  {
   "cell_type": "code",
   "execution_count": 42,
   "metadata": {
    "collapsed": false,
    "deletable": true,
    "editable": true
   },
   "outputs": [
    {
     "data": {
      "image/png": "[encoded data removed]",
      "text/plain": [
       "<matplotlib.figure.Figure at 0x113109c50>"
      ]
     },
     "metadata": {},
     "output_type": "display_data"
    }
   ],
   "source": [
    "import numpy\n",
    "import matplotlib.pyplot as plt\n",
    "\n",
    "# Compute the x and y coordinates for points on a sine curve\n",
    "eip_list = numpy.arange(0, 3 * numpy.pi, 0.1)\n",
    "eip = numpy.sin(eip_list)\n",
    "\n",
    "# Plot the points using matplotlib\n",
    "plt.plot(eip, eip_list)\n",
    "plt.show()  # You must call plt.show() to make graphics appear."
   ]
  },
  {
   "cell_type": "markdown",
   "metadata": {
    "deletable": true,
    "editable": true
   },
   "source": [
    "Running this code produces the following plot:\n",
    "\n",
    "<div class='fig figcenter fighighlight'>\n",
    "  <img src='assets/sine.png'>\n",
    "</div>\n",
    "\n",
    "With just a little bit of extra work we can easily plot multiple lines\n",
    "at once, and add a title, legend, and axis labels:"
   ]
  },
  {
   "cell_type": "code",
   "execution_count": 43,
   "metadata": {
    "collapsed": false,
    "deletable": true,
    "editable": true
   },
   "outputs": [
    {
     "data": {
      "image/png": "[encoded data removed]",
      "text/plain": [
       "<matplotlib.figure.Figure at 0x1129e0d10>"
      ]
     },
     "metadata": {},
     "output_type": "display_data"
    }
   ],
   "source": [
    "import numpy\n",
    "import matplotlib.pyplot as plt\n",
    "\n",
    "# Compute the x and y coordinates for points on sine and cosine curves\n",
    "eip_list = numpy.arange(0, 3 * numpy.pi, 0.1)\n",
    "eip_in = numpy.sin(eip_list)\n",
    "eip_out = numpy.cos(eip_list)\n",
    "\n",
    "# Plot the points using matplotlib\n",
    "plt.plot(eip_list, eip_in)\n",
    "plt.plot(eip_list, eip_out)\n",
    "plt.xlabel('x axis label')\n",
    "plt.ylabel('y axis label')\n",
    "plt.title('Sine and Cosine')\n",
    "plt.legend(['Sine', 'Cosine'])\n",
    "plt.show()"
   ]
  },
  {
   "cell_type": "markdown",
   "metadata": {
    "deletable": true,
    "editable": true
   },
   "source": [
    "<div class='fig figcenter fighighlight'>\n",
    "  <img src='assets/sine_cosine.png'>\n",
    "</div>\n",
    "\n",
    "You can read much more about the `plot` function\n",
    "[in the documentation](http://matplotlib.org/api/pyplot_api.html#matplotlib.pyplot.plot).\n",
    "\n",
    "<a name='matplotlib-subplots'></a>\n",
    "\n",
    "### Subplots\n",
    "You can plot different things in the same figure using the `subplot` function.\n",
    "Here is an example:"
   ]
  },
  {
   "cell_type": "code",
   "execution_count": 44,
   "metadata": {
    "collapsed": false,
    "deletable": true,
    "editable": true
   },
   "outputs": [
    {
     "data": {
      "image/png": "[encoded data removed]",
      "text/plain": [
       "<matplotlib.figure.Figure at 0x113f4f850>"
      ]
     },
     "metadata": {},
     "output_type": "display_data"
    }
   ],
   "source": [
    "import numpy\n",
    "import matplotlib.pyplot as plt\n",
    "\n",
    "# Compute the x and y coordinates for points on sine and cosine curves\n",
    "eip_list = numpy.arange(0, 3 * numpy.pi, 0.1)\n",
    "eip_in = numpy.sin(eip_list)\n",
    "eip_out = numpy.cos(eip_list)\n",
    "\n",
    "# Set up a subplot grid that has height 2 and width 1,\n",
    "# and set the first such subplot as active.\n",
    "plt.subplot(2, 1, 1)\n",
    "\n",
    "# Make the first plot\n",
    "plt.plot(eip_list, eip_in)\n",
    "plt.title('Sine')\n",
    "\n",
    "# Set the second subplot as active, and make the second plot.\n",
    "plt.subplot(2, 1, 2)\n",
    "plt.plot(eip_list, eip_out)\n",
    "plt.title('Cosine')\n",
    "\n",
    "# Show the figure.\n",
    "plt.show()"
   ]
  },
  {
   "cell_type": "markdown",
   "metadata": {
    "deletable": true,
    "editable": true
   },
   "source": [
    "<div class='fig figcenter fighighlight'>\n",
    "  <img src='assets/sine_cosine_subplot.png'>\n",
    "</div>\n",
    "\n",
    "You can read much more about the `subplot` function\n",
    "[in the documentation](http://matplotlib.org/api/pyplot_api.html#matplotlib.pyplot.subplot).\n",
    "\n",
    "<a name='matplotlib-images'></a>\n",
    "\n",
    "### Images\n",
    "You can use the `imshow` function to show images. Here is an example:"
   ]
  },
  {
   "cell_type": "code",
   "execution_count": 45,
   "metadata": {
    "collapsed": false,
    "deletable": true,
    "editable": true
   },
   "outputs": [
    {
     "data": {
      "image/png": "[encoded data removed]",
      "text/plain": [
       "<matplotlib.figure.Figure at 0x1109a2c10>"
      ]
     },
     "metadata": {},
     "output_type": "display_data"
    }
   ],
   "source": [
    "import numpy\n",
    "from scipy.misc import imread, imresize\n",
    "import matplotlib.pyplot as plt\n",
    "\n",
    "eip = imread('assets/cat.jpg')\n",
    "eip_in = eip * [1, 0.95, 0.9]\n",
    "\n",
    "# Show the original image\n",
    "plt.subplot(1, 2, 1)\n",
    "plt.imshow(eip)\n",
    "\n",
    "# Show the tinted image\n",
    "plt.subplot(1, 2, 2)\n",
    "\n",
    "# A slight gotcha with imshow is that it might give strange results\n",
    "# if presented with data that is not uint8. To work around this, we\n",
    "# explicitly cast the image to uint8 before displaying it.\n",
    "plt.imshow(numpy.uint8(eip_in))\n",
    "plt.show()"
   ]
  },
  {
   "cell_type": "markdown",
   "metadata": {
    "deletable": true,
    "editable": true
   },
   "source": [
    "<div class='fig figcenter fighighlight'>\n",
    "  <img src='assets/cat_tinted_imshow.png'>\n",
    "</div>"
   ]
  }
 ],
 "metadata": {
  "kernelspec": {
   "display_name": "Python 2",
   "language": "python",
   "name": "python2"
  },
  "language_info": {
   "codemirror_mode": {
    "name": "ipython",
    "version": 2
   },
   "file_extension": ".py",
   "mimetype": "text/x-python",
   "name": "python",
   "nbconvert_exporter": "python",
   "pygments_lexer": "ipython2",
   "version": "2.7.13"
  }
 },
 "nbformat": 4,
 "nbformat_minor": 2
}
